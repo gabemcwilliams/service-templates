{
 "cells": [
  {
   "metadata": {},
   "cell_type": "code",
   "outputs": [],
   "execution_count": null,
   "source": [
    "import mlflow\n",
    "import os\n",
    "\n",
    "os.environ[\"REQUESTS_CA_BUNDLE\"] = \"/mnt/mls/certs/ca.crt\"\n",
    "\n",
    "# Set the MLflow tracking URI (ensure it matches the curl working URL)\n",
    "mlflow.set_tracking_uri(\"https://mlflow.example.internal\")\n",
    "\n",
    "# Optionally, set the experiment (create a new one or use the default)\n",
    "mlflow.set_experiment(\"new_experiment\")\n",
    "\n",
    "# Start a new MLflow run\n",
    "with mlflow.start_run():\n",
    "    mlflow.log_param(\"param1\", 5)\n",
    "    mlflow.log_metric(\"accuracy\", 0.95)\n"
   ],
   "id": "69e88e3e402703d8"
  },
  {
   "metadata": {},
   "cell_type": "code",
   "outputs": [],
   "execution_count": null,
   "source": [
    "# Create a new experiment\n",
    "experiment_id = mlflow.create_experiment(\"new_experiment\")\n",
    "\n",
    "print(f\"Created new experiment with ID: {experiment_id}\")\n"
   ],
   "id": "d130560f0706c2a5"
  },
  {
   "metadata": {},
   "cell_type": "code",
   "outputs": [],
   "execution_count": null,
   "source": "",
   "id": "5890e0454a4f3906"
  }
 ],
 "metadata": {
  "kernelspec": {
   "display_name": "Python 3",
   "language": "python",
   "name": "python3"
  },
  "language_info": {
   "codemirror_mode": {
    "name": "ipython",
    "version": 2
   },
   "file_extension": ".py",
   "mimetype": "text/x-python",
   "name": "python",
   "nbconvert_exporter": "python",
   "pygments_lexer": "ipython2",
   "version": "2.7.6"
  }
 },
 "nbformat": 4,
 "nbformat_minor": 5
}
