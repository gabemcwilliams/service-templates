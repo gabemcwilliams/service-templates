{
 "cells": [
  {
   "cell_type": "code",
   "id": "initial_id",
   "metadata": {
    "collapsed": true,
    "ExecuteTime": {
     "end_time": "2025-03-16T06:15:36.725719Z",
     "start_time": "2025-03-16T06:15:36.723550Z"
    }
   },
   "source": [
    "import requests\n",
    "import json"
   ],
   "outputs": [],
   "execution_count": 9
  },
  {
   "metadata": {
    "ExecuteTime": {
     "end_time": "2025-03-16T06:15:47.103330Z",
     "start_time": "2025-03-16T06:15:37.120794Z"
    }
   },
   "cell_type": "code",
   "source": [
    "\n",
    "data = {\n",
    "    \"topic\":\"test-topic\",\n",
    "    \"data\":\"first try!\"\n",
    "}\n",
    "\n",
    "resp = requests.request(\n",
    "    method=\"POST\",\n",
    "    url=\"http://dlc-venus:8000/send-data\",\n",
    "    data=json.dumps(data)\n",
    ")"
   ],
   "id": "6908a5d5d74d51ed",
   "outputs": [
    {
     "ename": "KeyboardInterrupt",
     "evalue": "",
     "output_type": "error",
     "traceback": [
      "\u001B[31m---------------------------------------------------------------------------\u001B[39m",
      "\u001B[31mKeyboardInterrupt\u001B[39m                         Traceback (most recent call last)",
      "\u001B[36mCell\u001B[39m\u001B[36m \u001B[39m\u001B[32mIn[10]\u001B[39m\u001B[32m, line 6\u001B[39m\n\u001B[32m      1\u001B[39m data = {\n\u001B[32m      2\u001B[39m     \u001B[33m\"\u001B[39m\u001B[33mtopic\u001B[39m\u001B[33m\"\u001B[39m:\u001B[33m\"\u001B[39m\u001B[33mtest-topic\u001B[39m\u001B[33m\"\u001B[39m,\n\u001B[32m      3\u001B[39m     \u001B[33m\"\u001B[39m\u001B[33mdata\u001B[39m\u001B[33m\"\u001B[39m:\u001B[33m\"\u001B[39m\u001B[33mfirst try!\u001B[39m\u001B[33m\"\u001B[39m\n\u001B[32m      4\u001B[39m }\n\u001B[32m----> \u001B[39m\u001B[32m6\u001B[39m resp = \u001B[43mrequests\u001B[49m\u001B[43m.\u001B[49m\u001B[43mrequest\u001B[49m\u001B[43m(\u001B[49m\n\u001B[32m      7\u001B[39m \u001B[43m    \u001B[49m\u001B[43mmethod\u001B[49m\u001B[43m=\u001B[49m\u001B[33;43m\"\u001B[39;49m\u001B[33;43mPOST\u001B[39;49m\u001B[33;43m\"\u001B[39;49m\u001B[43m,\u001B[49m\n\u001B[32m      8\u001B[39m \u001B[43m    \u001B[49m\u001B[43murl\u001B[49m\u001B[43m=\u001B[49m\u001B[33;43m\"\u001B[39;49m\u001B[33;43mhttp://dlc-venus:8000/send-data\u001B[39;49m\u001B[33;43m\"\u001B[39;49m\u001B[43m,\u001B[49m\n\u001B[32m      9\u001B[39m \u001B[43m    \u001B[49m\u001B[43mdata\u001B[49m\u001B[43m=\u001B[49m\u001B[43mjson\u001B[49m\u001B[43m.\u001B[49m\u001B[43mdumps\u001B[49m\u001B[43m(\u001B[49m\u001B[43mdata\u001B[49m\u001B[43m)\u001B[49m\n\u001B[32m     10\u001B[39m \u001B[43m)\u001B[49m\n",
      "\u001B[36mFile \u001B[39m\u001B[32m/mnt/mls/venv/lib/python3.12/site-packages/requests/api.py:59\u001B[39m, in \u001B[36mrequest\u001B[39m\u001B[34m(method, url, **kwargs)\u001B[39m\n\u001B[32m     55\u001B[39m \u001B[38;5;66;03m# By using the 'with' statement we are sure the session is closed, thus we\u001B[39;00m\n\u001B[32m     56\u001B[39m \u001B[38;5;66;03m# avoid leaving sockets open which can trigger a ResourceWarning in some\u001B[39;00m\n\u001B[32m     57\u001B[39m \u001B[38;5;66;03m# cases, and look like a memory leak in others.\u001B[39;00m\n\u001B[32m     58\u001B[39m \u001B[38;5;28;01mwith\u001B[39;00m sessions.Session() \u001B[38;5;28;01mas\u001B[39;00m session:\n\u001B[32m---> \u001B[39m\u001B[32m59\u001B[39m     \u001B[38;5;28;01mreturn\u001B[39;00m \u001B[43msession\u001B[49m\u001B[43m.\u001B[49m\u001B[43mrequest\u001B[49m\u001B[43m(\u001B[49m\u001B[43mmethod\u001B[49m\u001B[43m=\u001B[49m\u001B[43mmethod\u001B[49m\u001B[43m,\u001B[49m\u001B[43m \u001B[49m\u001B[43murl\u001B[49m\u001B[43m=\u001B[49m\u001B[43murl\u001B[49m\u001B[43m,\u001B[49m\u001B[43m \u001B[49m\u001B[43m*\u001B[49m\u001B[43m*\u001B[49m\u001B[43mkwargs\u001B[49m\u001B[43m)\u001B[49m\n",
      "\u001B[36mFile \u001B[39m\u001B[32m/mnt/mls/venv/lib/python3.12/site-packages/requests/sessions.py:589\u001B[39m, in \u001B[36mSession.request\u001B[39m\u001B[34m(self, method, url, params, data, headers, cookies, files, auth, timeout, allow_redirects, proxies, hooks, stream, verify, cert, json)\u001B[39m\n\u001B[32m    584\u001B[39m send_kwargs = {\n\u001B[32m    585\u001B[39m     \u001B[33m\"\u001B[39m\u001B[33mtimeout\u001B[39m\u001B[33m\"\u001B[39m: timeout,\n\u001B[32m    586\u001B[39m     \u001B[33m\"\u001B[39m\u001B[33mallow_redirects\u001B[39m\u001B[33m\"\u001B[39m: allow_redirects,\n\u001B[32m    587\u001B[39m }\n\u001B[32m    588\u001B[39m send_kwargs.update(settings)\n\u001B[32m--> \u001B[39m\u001B[32m589\u001B[39m resp = \u001B[38;5;28;43mself\u001B[39;49m\u001B[43m.\u001B[49m\u001B[43msend\u001B[49m\u001B[43m(\u001B[49m\u001B[43mprep\u001B[49m\u001B[43m,\u001B[49m\u001B[43m \u001B[49m\u001B[43m*\u001B[49m\u001B[43m*\u001B[49m\u001B[43msend_kwargs\u001B[49m\u001B[43m)\u001B[49m\n\u001B[32m    591\u001B[39m \u001B[38;5;28;01mreturn\u001B[39;00m resp\n",
      "\u001B[36mFile \u001B[39m\u001B[32m/mnt/mls/venv/lib/python3.12/site-packages/requests/sessions.py:703\u001B[39m, in \u001B[36mSession.send\u001B[39m\u001B[34m(self, request, **kwargs)\u001B[39m\n\u001B[32m    700\u001B[39m start = preferred_clock()\n\u001B[32m    702\u001B[39m \u001B[38;5;66;03m# Send the request\u001B[39;00m\n\u001B[32m--> \u001B[39m\u001B[32m703\u001B[39m r = \u001B[43madapter\u001B[49m\u001B[43m.\u001B[49m\u001B[43msend\u001B[49m\u001B[43m(\u001B[49m\u001B[43mrequest\u001B[49m\u001B[43m,\u001B[49m\u001B[43m \u001B[49m\u001B[43m*\u001B[49m\u001B[43m*\u001B[49m\u001B[43mkwargs\u001B[49m\u001B[43m)\u001B[49m\n\u001B[32m    705\u001B[39m \u001B[38;5;66;03m# Total elapsed time of the request (approximately)\u001B[39;00m\n\u001B[32m    706\u001B[39m elapsed = preferred_clock() - start\n",
      "\u001B[36mFile \u001B[39m\u001B[32m/mnt/mls/venv/lib/python3.12/site-packages/requests/adapters.py:667\u001B[39m, in \u001B[36mHTTPAdapter.send\u001B[39m\u001B[34m(self, request, stream, timeout, verify, cert, proxies)\u001B[39m\n\u001B[32m    664\u001B[39m     timeout = TimeoutSauce(connect=timeout, read=timeout)\n\u001B[32m    666\u001B[39m \u001B[38;5;28;01mtry\u001B[39;00m:\n\u001B[32m--> \u001B[39m\u001B[32m667\u001B[39m     resp = \u001B[43mconn\u001B[49m\u001B[43m.\u001B[49m\u001B[43murlopen\u001B[49m\u001B[43m(\u001B[49m\n\u001B[32m    668\u001B[39m \u001B[43m        \u001B[49m\u001B[43mmethod\u001B[49m\u001B[43m=\u001B[49m\u001B[43mrequest\u001B[49m\u001B[43m.\u001B[49m\u001B[43mmethod\u001B[49m\u001B[43m,\u001B[49m\n\u001B[32m    669\u001B[39m \u001B[43m        \u001B[49m\u001B[43murl\u001B[49m\u001B[43m=\u001B[49m\u001B[43murl\u001B[49m\u001B[43m,\u001B[49m\n\u001B[32m    670\u001B[39m \u001B[43m        \u001B[49m\u001B[43mbody\u001B[49m\u001B[43m=\u001B[49m\u001B[43mrequest\u001B[49m\u001B[43m.\u001B[49m\u001B[43mbody\u001B[49m\u001B[43m,\u001B[49m\n\u001B[32m    671\u001B[39m \u001B[43m        \u001B[49m\u001B[43mheaders\u001B[49m\u001B[43m=\u001B[49m\u001B[43mrequest\u001B[49m\u001B[43m.\u001B[49m\u001B[43mheaders\u001B[49m\u001B[43m,\u001B[49m\n\u001B[32m    672\u001B[39m \u001B[43m        \u001B[49m\u001B[43mredirect\u001B[49m\u001B[43m=\u001B[49m\u001B[38;5;28;43;01mFalse\u001B[39;49;00m\u001B[43m,\u001B[49m\n\u001B[32m    673\u001B[39m \u001B[43m        \u001B[49m\u001B[43massert_same_host\u001B[49m\u001B[43m=\u001B[49m\u001B[38;5;28;43;01mFalse\u001B[39;49;00m\u001B[43m,\u001B[49m\n\u001B[32m    674\u001B[39m \u001B[43m        \u001B[49m\u001B[43mpreload_content\u001B[49m\u001B[43m=\u001B[49m\u001B[38;5;28;43;01mFalse\u001B[39;49;00m\u001B[43m,\u001B[49m\n\u001B[32m    675\u001B[39m \u001B[43m        \u001B[49m\u001B[43mdecode_content\u001B[49m\u001B[43m=\u001B[49m\u001B[38;5;28;43;01mFalse\u001B[39;49;00m\u001B[43m,\u001B[49m\n\u001B[32m    676\u001B[39m \u001B[43m        \u001B[49m\u001B[43mretries\u001B[49m\u001B[43m=\u001B[49m\u001B[38;5;28;43mself\u001B[39;49m\u001B[43m.\u001B[49m\u001B[43mmax_retries\u001B[49m\u001B[43m,\u001B[49m\n\u001B[32m    677\u001B[39m \u001B[43m        \u001B[49m\u001B[43mtimeout\u001B[49m\u001B[43m=\u001B[49m\u001B[43mtimeout\u001B[49m\u001B[43m,\u001B[49m\n\u001B[32m    678\u001B[39m \u001B[43m        \u001B[49m\u001B[43mchunked\u001B[49m\u001B[43m=\u001B[49m\u001B[43mchunked\u001B[49m\u001B[43m,\u001B[49m\n\u001B[32m    679\u001B[39m \u001B[43m    \u001B[49m\u001B[43m)\u001B[49m\n\u001B[32m    681\u001B[39m \u001B[38;5;28;01mexcept\u001B[39;00m (ProtocolError, \u001B[38;5;167;01mOSError\u001B[39;00m) \u001B[38;5;28;01mas\u001B[39;00m err:\n\u001B[32m    682\u001B[39m     \u001B[38;5;28;01mraise\u001B[39;00m \u001B[38;5;167;01mConnectionError\u001B[39;00m(err, request=request)\n",
      "\u001B[36mFile \u001B[39m\u001B[32m/mnt/mls/venv/lib/python3.12/site-packages/urllib3/connectionpool.py:787\u001B[39m, in \u001B[36mHTTPConnectionPool.urlopen\u001B[39m\u001B[34m(self, method, url, body, headers, retries, redirect, assert_same_host, timeout, pool_timeout, release_conn, chunked, body_pos, preload_content, decode_content, **response_kw)\u001B[39m\n\u001B[32m    784\u001B[39m response_conn = conn \u001B[38;5;28;01mif\u001B[39;00m \u001B[38;5;129;01mnot\u001B[39;00m release_conn \u001B[38;5;28;01melse\u001B[39;00m \u001B[38;5;28;01mNone\u001B[39;00m\n\u001B[32m    786\u001B[39m \u001B[38;5;66;03m# Make the request on the HTTPConnection object\u001B[39;00m\n\u001B[32m--> \u001B[39m\u001B[32m787\u001B[39m response = \u001B[38;5;28;43mself\u001B[39;49m\u001B[43m.\u001B[49m\u001B[43m_make_request\u001B[49m\u001B[43m(\u001B[49m\n\u001B[32m    788\u001B[39m \u001B[43m    \u001B[49m\u001B[43mconn\u001B[49m\u001B[43m,\u001B[49m\n\u001B[32m    789\u001B[39m \u001B[43m    \u001B[49m\u001B[43mmethod\u001B[49m\u001B[43m,\u001B[49m\n\u001B[32m    790\u001B[39m \u001B[43m    \u001B[49m\u001B[43murl\u001B[49m\u001B[43m,\u001B[49m\n\u001B[32m    791\u001B[39m \u001B[43m    \u001B[49m\u001B[43mtimeout\u001B[49m\u001B[43m=\u001B[49m\u001B[43mtimeout_obj\u001B[49m\u001B[43m,\u001B[49m\n\u001B[32m    792\u001B[39m \u001B[43m    \u001B[49m\u001B[43mbody\u001B[49m\u001B[43m=\u001B[49m\u001B[43mbody\u001B[49m\u001B[43m,\u001B[49m\n\u001B[32m    793\u001B[39m \u001B[43m    \u001B[49m\u001B[43mheaders\u001B[49m\u001B[43m=\u001B[49m\u001B[43mheaders\u001B[49m\u001B[43m,\u001B[49m\n\u001B[32m    794\u001B[39m \u001B[43m    \u001B[49m\u001B[43mchunked\u001B[49m\u001B[43m=\u001B[49m\u001B[43mchunked\u001B[49m\u001B[43m,\u001B[49m\n\u001B[32m    795\u001B[39m \u001B[43m    \u001B[49m\u001B[43mretries\u001B[49m\u001B[43m=\u001B[49m\u001B[43mretries\u001B[49m\u001B[43m,\u001B[49m\n\u001B[32m    796\u001B[39m \u001B[43m    \u001B[49m\u001B[43mresponse_conn\u001B[49m\u001B[43m=\u001B[49m\u001B[43mresponse_conn\u001B[49m\u001B[43m,\u001B[49m\n\u001B[32m    797\u001B[39m \u001B[43m    \u001B[49m\u001B[43mpreload_content\u001B[49m\u001B[43m=\u001B[49m\u001B[43mpreload_content\u001B[49m\u001B[43m,\u001B[49m\n\u001B[32m    798\u001B[39m \u001B[43m    \u001B[49m\u001B[43mdecode_content\u001B[49m\u001B[43m=\u001B[49m\u001B[43mdecode_content\u001B[49m\u001B[43m,\u001B[49m\n\u001B[32m    799\u001B[39m \u001B[43m    \u001B[49m\u001B[43m*\u001B[49m\u001B[43m*\u001B[49m\u001B[43mresponse_kw\u001B[49m\u001B[43m,\u001B[49m\n\u001B[32m    800\u001B[39m \u001B[43m\u001B[49m\u001B[43m)\u001B[49m\n\u001B[32m    802\u001B[39m \u001B[38;5;66;03m# Everything went great!\u001B[39;00m\n\u001B[32m    803\u001B[39m clean_exit = \u001B[38;5;28;01mTrue\u001B[39;00m\n",
      "\u001B[36mFile \u001B[39m\u001B[32m/mnt/mls/venv/lib/python3.12/site-packages/urllib3/connectionpool.py:493\u001B[39m, in \u001B[36mHTTPConnectionPool._make_request\u001B[39m\u001B[34m(self, conn, method, url, body, headers, retries, timeout, chunked, response_conn, preload_content, decode_content, enforce_content_length)\u001B[39m\n\u001B[32m    490\u001B[39m \u001B[38;5;66;03m# conn.request() calls http.client.*.request, not the method in\u001B[39;00m\n\u001B[32m    491\u001B[39m \u001B[38;5;66;03m# urllib3.request. It also calls makefile (recv) on the socket.\u001B[39;00m\n\u001B[32m    492\u001B[39m \u001B[38;5;28;01mtry\u001B[39;00m:\n\u001B[32m--> \u001B[39m\u001B[32m493\u001B[39m     \u001B[43mconn\u001B[49m\u001B[43m.\u001B[49m\u001B[43mrequest\u001B[49m\u001B[43m(\u001B[49m\n\u001B[32m    494\u001B[39m \u001B[43m        \u001B[49m\u001B[43mmethod\u001B[49m\u001B[43m,\u001B[49m\n\u001B[32m    495\u001B[39m \u001B[43m        \u001B[49m\u001B[43murl\u001B[49m\u001B[43m,\u001B[49m\n\u001B[32m    496\u001B[39m \u001B[43m        \u001B[49m\u001B[43mbody\u001B[49m\u001B[43m=\u001B[49m\u001B[43mbody\u001B[49m\u001B[43m,\u001B[49m\n\u001B[32m    497\u001B[39m \u001B[43m        \u001B[49m\u001B[43mheaders\u001B[49m\u001B[43m=\u001B[49m\u001B[43mheaders\u001B[49m\u001B[43m,\u001B[49m\n\u001B[32m    498\u001B[39m \u001B[43m        \u001B[49m\u001B[43mchunked\u001B[49m\u001B[43m=\u001B[49m\u001B[43mchunked\u001B[49m\u001B[43m,\u001B[49m\n\u001B[32m    499\u001B[39m \u001B[43m        \u001B[49m\u001B[43mpreload_content\u001B[49m\u001B[43m=\u001B[49m\u001B[43mpreload_content\u001B[49m\u001B[43m,\u001B[49m\n\u001B[32m    500\u001B[39m \u001B[43m        \u001B[49m\u001B[43mdecode_content\u001B[49m\u001B[43m=\u001B[49m\u001B[43mdecode_content\u001B[49m\u001B[43m,\u001B[49m\n\u001B[32m    501\u001B[39m \u001B[43m        \u001B[49m\u001B[43menforce_content_length\u001B[49m\u001B[43m=\u001B[49m\u001B[43menforce_content_length\u001B[49m\u001B[43m,\u001B[49m\n\u001B[32m    502\u001B[39m \u001B[43m    \u001B[49m\u001B[43m)\u001B[49m\n\u001B[32m    504\u001B[39m \u001B[38;5;66;03m# We are swallowing BrokenPipeError (errno.EPIPE) since the server is\u001B[39;00m\n\u001B[32m    505\u001B[39m \u001B[38;5;66;03m# legitimately able to close the connection after sending a valid response.\u001B[39;00m\n\u001B[32m    506\u001B[39m \u001B[38;5;66;03m# With this behaviour, the received response is still readable.\u001B[39;00m\n\u001B[32m    507\u001B[39m \u001B[38;5;28;01mexcept\u001B[39;00m \u001B[38;5;167;01mBrokenPipeError\u001B[39;00m:\n",
      "\u001B[36mFile \u001B[39m\u001B[32m/mnt/mls/venv/lib/python3.12/site-packages/urllib3/connection.py:445\u001B[39m, in \u001B[36mHTTPConnection.request\u001B[39m\u001B[34m(self, method, url, body, headers, chunked, preload_content, decode_content, enforce_content_length)\u001B[39m\n\u001B[32m    443\u001B[39m \u001B[38;5;28;01mfor\u001B[39;00m header, value \u001B[38;5;129;01min\u001B[39;00m headers.items():\n\u001B[32m    444\u001B[39m     \u001B[38;5;28mself\u001B[39m.putheader(header, value)\n\u001B[32m--> \u001B[39m\u001B[32m445\u001B[39m \u001B[38;5;28;43mself\u001B[39;49m\u001B[43m.\u001B[49m\u001B[43mendheaders\u001B[49m\u001B[43m(\u001B[49m\u001B[43m)\u001B[49m\n\u001B[32m    447\u001B[39m \u001B[38;5;66;03m# If we're given a body we start sending that in chunks.\u001B[39;00m\n\u001B[32m    448\u001B[39m \u001B[38;5;28;01mif\u001B[39;00m chunks \u001B[38;5;129;01mis\u001B[39;00m \u001B[38;5;129;01mnot\u001B[39;00m \u001B[38;5;28;01mNone\u001B[39;00m:\n",
      "\u001B[36mFile \u001B[39m\u001B[32m/usr/lib/python3.12/http/client.py:1331\u001B[39m, in \u001B[36mHTTPConnection.endheaders\u001B[39m\u001B[34m(self, message_body, encode_chunked)\u001B[39m\n\u001B[32m   1329\u001B[39m \u001B[38;5;28;01melse\u001B[39;00m:\n\u001B[32m   1330\u001B[39m     \u001B[38;5;28;01mraise\u001B[39;00m CannotSendHeader()\n\u001B[32m-> \u001B[39m\u001B[32m1331\u001B[39m \u001B[38;5;28;43mself\u001B[39;49m\u001B[43m.\u001B[49m\u001B[43m_send_output\u001B[49m\u001B[43m(\u001B[49m\u001B[43mmessage_body\u001B[49m\u001B[43m,\u001B[49m\u001B[43m \u001B[49m\u001B[43mencode_chunked\u001B[49m\u001B[43m=\u001B[49m\u001B[43mencode_chunked\u001B[49m\u001B[43m)\u001B[49m\n",
      "\u001B[36mFile \u001B[39m\u001B[32m/usr/lib/python3.12/http/client.py:1091\u001B[39m, in \u001B[36mHTTPConnection._send_output\u001B[39m\u001B[34m(self, message_body, encode_chunked)\u001B[39m\n\u001B[32m   1089\u001B[39m msg = \u001B[33mb\u001B[39m\u001B[33m\"\u001B[39m\u001B[38;5;130;01m\\r\u001B[39;00m\u001B[38;5;130;01m\\n\u001B[39;00m\u001B[33m\"\u001B[39m.join(\u001B[38;5;28mself\u001B[39m._buffer)\n\u001B[32m   1090\u001B[39m \u001B[38;5;28;01mdel\u001B[39;00m \u001B[38;5;28mself\u001B[39m._buffer[:]\n\u001B[32m-> \u001B[39m\u001B[32m1091\u001B[39m \u001B[38;5;28;43mself\u001B[39;49m\u001B[43m.\u001B[49m\u001B[43msend\u001B[49m\u001B[43m(\u001B[49m\u001B[43mmsg\u001B[49m\u001B[43m)\u001B[49m\n\u001B[32m   1093\u001B[39m \u001B[38;5;28;01mif\u001B[39;00m message_body \u001B[38;5;129;01mis\u001B[39;00m \u001B[38;5;129;01mnot\u001B[39;00m \u001B[38;5;28;01mNone\u001B[39;00m:\n\u001B[32m   1094\u001B[39m \n\u001B[32m   1095\u001B[39m     \u001B[38;5;66;03m# create a consistent interface to message_body\u001B[39;00m\n\u001B[32m   1096\u001B[39m     \u001B[38;5;28;01mif\u001B[39;00m \u001B[38;5;28mhasattr\u001B[39m(message_body, \u001B[33m'\u001B[39m\u001B[33mread\u001B[39m\u001B[33m'\u001B[39m):\n\u001B[32m   1097\u001B[39m         \u001B[38;5;66;03m# Let file-like take precedence over byte-like.  This\u001B[39;00m\n\u001B[32m   1098\u001B[39m         \u001B[38;5;66;03m# is needed to allow the current position of mmap'ed\u001B[39;00m\n\u001B[32m   1099\u001B[39m         \u001B[38;5;66;03m# files to be taken into account.\u001B[39;00m\n",
      "\u001B[36mFile \u001B[39m\u001B[32m/usr/lib/python3.12/http/client.py:1035\u001B[39m, in \u001B[36mHTTPConnection.send\u001B[39m\u001B[34m(self, data)\u001B[39m\n\u001B[32m   1033\u001B[39m \u001B[38;5;28;01mif\u001B[39;00m \u001B[38;5;28mself\u001B[39m.sock \u001B[38;5;129;01mis\u001B[39;00m \u001B[38;5;28;01mNone\u001B[39;00m:\n\u001B[32m   1034\u001B[39m     \u001B[38;5;28;01mif\u001B[39;00m \u001B[38;5;28mself\u001B[39m.auto_open:\n\u001B[32m-> \u001B[39m\u001B[32m1035\u001B[39m         \u001B[38;5;28;43mself\u001B[39;49m\u001B[43m.\u001B[49m\u001B[43mconnect\u001B[49m\u001B[43m(\u001B[49m\u001B[43m)\u001B[49m\n\u001B[32m   1036\u001B[39m     \u001B[38;5;28;01melse\u001B[39;00m:\n\u001B[32m   1037\u001B[39m         \u001B[38;5;28;01mraise\u001B[39;00m NotConnected()\n",
      "\u001B[36mFile \u001B[39m\u001B[32m/mnt/mls/venv/lib/python3.12/site-packages/urllib3/connection.py:276\u001B[39m, in \u001B[36mHTTPConnection.connect\u001B[39m\u001B[34m(self)\u001B[39m\n\u001B[32m    275\u001B[39m \u001B[38;5;28;01mdef\u001B[39;00m\u001B[38;5;250m \u001B[39m\u001B[34mconnect\u001B[39m(\u001B[38;5;28mself\u001B[39m) -> \u001B[38;5;28;01mNone\u001B[39;00m:\n\u001B[32m--> \u001B[39m\u001B[32m276\u001B[39m     \u001B[38;5;28mself\u001B[39m.sock = \u001B[38;5;28;43mself\u001B[39;49m\u001B[43m.\u001B[49m\u001B[43m_new_conn\u001B[49m\u001B[43m(\u001B[49m\u001B[43m)\u001B[49m\n\u001B[32m    277\u001B[39m     \u001B[38;5;28;01mif\u001B[39;00m \u001B[38;5;28mself\u001B[39m._tunnel_host:\n\u001B[32m    278\u001B[39m         \u001B[38;5;66;03m# If we're tunneling it means we're connected to our proxy.\u001B[39;00m\n\u001B[32m    279\u001B[39m         \u001B[38;5;28mself\u001B[39m._has_connected_to_proxy = \u001B[38;5;28;01mTrue\u001B[39;00m\n",
      "\u001B[36mFile \u001B[39m\u001B[32m/mnt/mls/venv/lib/python3.12/site-packages/urllib3/connection.py:198\u001B[39m, in \u001B[36mHTTPConnection._new_conn\u001B[39m\u001B[34m(self)\u001B[39m\n\u001B[32m    193\u001B[39m \u001B[38;5;250m\u001B[39m\u001B[33;03m\"\"\"Establish a socket connection and set nodelay settings on it.\u001B[39;00m\n\u001B[32m    194\u001B[39m \n\u001B[32m    195\u001B[39m \u001B[33;03m:return: New socket connection.\u001B[39;00m\n\u001B[32m    196\u001B[39m \u001B[33;03m\"\"\"\u001B[39;00m\n\u001B[32m    197\u001B[39m \u001B[38;5;28;01mtry\u001B[39;00m:\n\u001B[32m--> \u001B[39m\u001B[32m198\u001B[39m     sock = \u001B[43mconnection\u001B[49m\u001B[43m.\u001B[49m\u001B[43mcreate_connection\u001B[49m\u001B[43m(\u001B[49m\n\u001B[32m    199\u001B[39m \u001B[43m        \u001B[49m\u001B[43m(\u001B[49m\u001B[38;5;28;43mself\u001B[39;49m\u001B[43m.\u001B[49m\u001B[43m_dns_host\u001B[49m\u001B[43m,\u001B[49m\u001B[43m \u001B[49m\u001B[38;5;28;43mself\u001B[39;49m\u001B[43m.\u001B[49m\u001B[43mport\u001B[49m\u001B[43m)\u001B[49m\u001B[43m,\u001B[49m\n\u001B[32m    200\u001B[39m \u001B[43m        \u001B[49m\u001B[38;5;28;43mself\u001B[39;49m\u001B[43m.\u001B[49m\u001B[43mtimeout\u001B[49m\u001B[43m,\u001B[49m\n\u001B[32m    201\u001B[39m \u001B[43m        \u001B[49m\u001B[43msource_address\u001B[49m\u001B[43m=\u001B[49m\u001B[38;5;28;43mself\u001B[39;49m\u001B[43m.\u001B[49m\u001B[43msource_address\u001B[49m\u001B[43m,\u001B[49m\n\u001B[32m    202\u001B[39m \u001B[43m        \u001B[49m\u001B[43msocket_options\u001B[49m\u001B[43m=\u001B[49m\u001B[38;5;28;43mself\u001B[39;49m\u001B[43m.\u001B[49m\u001B[43msocket_options\u001B[49m\u001B[43m,\u001B[49m\n\u001B[32m    203\u001B[39m \u001B[43m    \u001B[49m\u001B[43m)\u001B[49m\n\u001B[32m    204\u001B[39m \u001B[38;5;28;01mexcept\u001B[39;00m socket.gaierror \u001B[38;5;28;01mas\u001B[39;00m e:\n\u001B[32m    205\u001B[39m     \u001B[38;5;28;01mraise\u001B[39;00m NameResolutionError(\u001B[38;5;28mself\u001B[39m.host, \u001B[38;5;28mself\u001B[39m, e) \u001B[38;5;28;01mfrom\u001B[39;00m\u001B[38;5;250m \u001B[39m\u001B[34;01me\u001B[39;00m\n",
      "\u001B[36mFile \u001B[39m\u001B[32m/mnt/mls/venv/lib/python3.12/site-packages/urllib3/util/connection.py:73\u001B[39m, in \u001B[36mcreate_connection\u001B[39m\u001B[34m(address, timeout, source_address, socket_options)\u001B[39m\n\u001B[32m     71\u001B[39m \u001B[38;5;28;01mif\u001B[39;00m source_address:\n\u001B[32m     72\u001B[39m     sock.bind(source_address)\n\u001B[32m---> \u001B[39m\u001B[32m73\u001B[39m \u001B[43msock\u001B[49m\u001B[43m.\u001B[49m\u001B[43mconnect\u001B[49m\u001B[43m(\u001B[49m\u001B[43msa\u001B[49m\u001B[43m)\u001B[49m\n\u001B[32m     74\u001B[39m \u001B[38;5;66;03m# Break explicitly a reference cycle\u001B[39;00m\n\u001B[32m     75\u001B[39m err = \u001B[38;5;28;01mNone\u001B[39;00m\n",
      "\u001B[31mKeyboardInterrupt\u001B[39m: "
     ]
    }
   ],
   "execution_count": 10
  },
  {
   "metadata": {},
   "cell_type": "code",
   "source": "",
   "id": "f22893ee0b23b9f9",
   "outputs": [],
   "execution_count": null
  },
  {
   "metadata": {
    "ExecuteTime": {
     "end_time": "2025-03-16T07:01:17.387281Z",
     "start_time": "2025-03-16T07:01:17.384091Z"
    }
   },
   "cell_type": "code",
   "source": [
    "hex_string = \"7B22746F706963223A2022746573742D746F706963222C202264617461223A207B22746F706963223A2022746573742D746F706963222C202264617461223A2022326E642074727921227D7D\"  # Replace with your hex string\n",
    "decoded_message = bytes.fromhex(hex_string).decode('utf-8')\n",
    "print(decoded_message)\n"
   ],
   "id": "b12ae9719b8885a4",
   "outputs": [
    {
     "name": "stdout",
     "output_type": "stream",
     "text": [
      "{\"topic\": \"test-topic\", \"data\": {\"topic\": \"test-topic\", \"data\": \"2nd try!\"}}\n"
     ]
    }
   ],
   "execution_count": 13
  },
  {
   "metadata": {
    "ExecuteTime": {
     "end_time": "2025-03-16T07:07:38.695729Z",
     "start_time": "2025-03-16T07:06:10.090116Z"
    }
   },
   "cell_type": "code",
   "source": [
    "from kafka import KafkaConsumer\n",
    "\n",
    "consumer = KafkaConsumer(\n",
    "    'test-topic',\n",
    "    bootstrap_servers='kafka.example.internal:9092',\n",
    "    auto_offset_reset='earliest',\n",
    "    group_id='test-group',\n",
    ")\n",
    "\n",
    "for message in consumer:\n",
    "    print(f\"Raw message (hex): {message.value}\")  # Print the raw hex message\n",
    "\n",
    "    # Try decoding the message\n",
    "    try:\n",
    "        decoded_message = message.value.decode('utf-8')\n",
    "        print(f\"Decoded message: {decoded_message}\")\n",
    "    except UnicodeDecodeError:\n",
    "        print(\"Unable to decode message.\")\n"
   ],
   "id": "eba27afac78ba792",
   "outputs": [
    {
     "ename": "KeyboardInterrupt",
     "evalue": "",
     "output_type": "error",
     "traceback": [
      "\u001B[31m---------------------------------------------------------------------------\u001B[39m",
      "\u001B[31mKeyboardInterrupt\u001B[39m                         Traceback (most recent call last)",
      "\u001B[36mCell\u001B[39m\u001B[36m \u001B[39m\u001B[32mIn[14]\u001B[39m\u001B[32m, line 10\u001B[39m\n\u001B[32m      1\u001B[39m \u001B[38;5;28;01mfrom\u001B[39;00m\u001B[38;5;250m \u001B[39m\u001B[34;01mkafka\u001B[39;00m\u001B[38;5;250m \u001B[39m\u001B[38;5;28;01mimport\u001B[39;00m KafkaConsumer\n\u001B[32m      3\u001B[39m consumer = KafkaConsumer(\n\u001B[32m      4\u001B[39m     \u001B[33m'\u001B[39m\u001B[33mtest-topic\u001B[39m\u001B[33m'\u001B[39m,\n\u001B[32m      5\u001B[39m     bootstrap_servers=\u001B[33m'\u001B[39m\u001B[33mkafka.darklycreative.internal:9092\u001B[39m\u001B[33m'\u001B[39m,\n\u001B[32m      6\u001B[39m     auto_offset_reset=\u001B[33m'\u001B[39m\u001B[33mearliest\u001B[39m\u001B[33m'\u001B[39m,\n\u001B[32m      7\u001B[39m     group_id=\u001B[33m'\u001B[39m\u001B[33mtest-group\u001B[39m\u001B[33m'\u001B[39m,\n\u001B[32m      8\u001B[39m )\n\u001B[32m---> \u001B[39m\u001B[32m10\u001B[39m \u001B[38;5;28;43;01mfor\u001B[39;49;00m\u001B[43m \u001B[49m\u001B[43mmessage\u001B[49m\u001B[43m \u001B[49m\u001B[38;5;129;43;01min\u001B[39;49;00m\u001B[43m \u001B[49m\u001B[43mconsumer\u001B[49m\u001B[43m:\u001B[49m\n\u001B[32m     11\u001B[39m \u001B[43m    \u001B[49m\u001B[38;5;28;43mprint\u001B[39;49m\u001B[43m(\u001B[49m\u001B[33;43mf\u001B[39;49m\u001B[33;43m\"\u001B[39;49m\u001B[33;43mRaw message (hex): \u001B[39;49m\u001B[38;5;132;43;01m{\u001B[39;49;00m\u001B[43mmessage\u001B[49m\u001B[43m.\u001B[49m\u001B[43mvalue\u001B[49m\u001B[38;5;132;43;01m}\u001B[39;49;00m\u001B[33;43m\"\u001B[39;49m\u001B[43m)\u001B[49m\u001B[43m  \u001B[49m\u001B[38;5;66;43;03m# Print the raw hex message\u001B[39;49;00m\n\u001B[32m     13\u001B[39m \u001B[43m    \u001B[49m\u001B[38;5;66;43;03m# Try decoding the message\u001B[39;49;00m\n",
      "\u001B[36mFile \u001B[39m\u001B[32m/mnt/mls/venv/lib/python3.12/site-packages/kafka/consumer/group.py:1197\u001B[39m, in \u001B[36mKafkaConsumer.__next__\u001B[39m\u001B[34m(self)\u001B[39m\n\u001B[32m   1195\u001B[39m     \u001B[38;5;28;01mreturn\u001B[39;00m \u001B[38;5;28mself\u001B[39m.next_v1()\n\u001B[32m   1196\u001B[39m \u001B[38;5;28;01melse\u001B[39;00m:\n\u001B[32m-> \u001B[39m\u001B[32m1197\u001B[39m     \u001B[38;5;28;01mreturn\u001B[39;00m \u001B[38;5;28;43mself\u001B[39;49m\u001B[43m.\u001B[49m\u001B[43mnext_v2\u001B[49m\u001B[43m(\u001B[49m\u001B[43m)\u001B[49m\n",
      "\u001B[36mFile \u001B[39m\u001B[32m/mnt/mls/venv/lib/python3.12/site-packages/kafka/consumer/group.py:1205\u001B[39m, in \u001B[36mKafkaConsumer.next_v2\u001B[39m\u001B[34m(self)\u001B[39m\n\u001B[32m   1203\u001B[39m     \u001B[38;5;28mself\u001B[39m._iterator = \u001B[38;5;28mself\u001B[39m._message_generator_v2()\n\u001B[32m   1204\u001B[39m \u001B[38;5;28;01mtry\u001B[39;00m:\n\u001B[32m-> \u001B[39m\u001B[32m1205\u001B[39m     \u001B[38;5;28;01mreturn\u001B[39;00m \u001B[38;5;28;43mnext\u001B[39;49m\u001B[43m(\u001B[49m\u001B[38;5;28;43mself\u001B[39;49m\u001B[43m.\u001B[49m\u001B[43m_iterator\u001B[49m\u001B[43m)\u001B[49m\n\u001B[32m   1206\u001B[39m \u001B[38;5;28;01mexcept\u001B[39;00m \u001B[38;5;167;01mStopIteration\u001B[39;00m:\n\u001B[32m   1207\u001B[39m     \u001B[38;5;28mself\u001B[39m._iterator = \u001B[38;5;28;01mNone\u001B[39;00m\n",
      "\u001B[36mFile \u001B[39m\u001B[32m/mnt/mls/venv/lib/python3.12/site-packages/kafka/consumer/group.py:1120\u001B[39m, in \u001B[36mKafkaConsumer._message_generator_v2\u001B[39m\u001B[34m(self)\u001B[39m\n\u001B[32m   1118\u001B[39m \u001B[38;5;28;01mdef\u001B[39;00m\u001B[38;5;250m \u001B[39m\u001B[34m_message_generator_v2\u001B[39m(\u001B[38;5;28mself\u001B[39m):\n\u001B[32m   1119\u001B[39m     timeout_ms = \u001B[32m1000\u001B[39m * (\u001B[38;5;28mself\u001B[39m._consumer_timeout - time.time())\n\u001B[32m-> \u001B[39m\u001B[32m1120\u001B[39m     record_map = \u001B[38;5;28;43mself\u001B[39;49m\u001B[43m.\u001B[49m\u001B[43mpoll\u001B[49m\u001B[43m(\u001B[49m\u001B[43mtimeout_ms\u001B[49m\u001B[43m=\u001B[49m\u001B[43mtimeout_ms\u001B[49m\u001B[43m,\u001B[49m\u001B[43m \u001B[49m\u001B[43mupdate_offsets\u001B[49m\u001B[43m=\u001B[49m\u001B[38;5;28;43;01mFalse\u001B[39;49;00m\u001B[43m)\u001B[49m\n\u001B[32m   1121\u001B[39m     \u001B[38;5;28;01mfor\u001B[39;00m tp, records \u001B[38;5;129;01min\u001B[39;00m six.iteritems(record_map):\n\u001B[32m   1122\u001B[39m         \u001B[38;5;66;03m# Generators are stateful, and it is possible that the tp / records\u001B[39;00m\n\u001B[32m   1123\u001B[39m         \u001B[38;5;66;03m# here may become stale during iteration -- i.e., we seek to a\u001B[39;00m\n\u001B[32m   1124\u001B[39m         \u001B[38;5;66;03m# different offset, pause consumption, or lose assignment.\u001B[39;00m\n\u001B[32m   1125\u001B[39m         \u001B[38;5;28;01mfor\u001B[39;00m record \u001B[38;5;129;01min\u001B[39;00m records:\n\u001B[32m   1126\u001B[39m             \u001B[38;5;66;03m# is_fetchable(tp) should handle assignment changes and offset\u001B[39;00m\n\u001B[32m   1127\u001B[39m             \u001B[38;5;66;03m# resets; for all other changes (e.g., seeks) we'll rely on the\u001B[39;00m\n\u001B[32m   1128\u001B[39m             \u001B[38;5;66;03m# outer function destroying the existing iterator/generator\u001B[39;00m\n\u001B[32m   1129\u001B[39m             \u001B[38;5;66;03m# via self._iterator = None\u001B[39;00m\n",
      "\u001B[36mFile \u001B[39m\u001B[32m/mnt/mls/venv/lib/python3.12/site-packages/kafka/consumer/group.py:657\u001B[39m, in \u001B[36mKafkaConsumer.poll\u001B[39m\u001B[34m(self, timeout_ms, max_records, update_offsets)\u001B[39m\n\u001B[32m    655\u001B[39m remaining = timeout_ms\n\u001B[32m    656\u001B[39m \u001B[38;5;28;01mwhile\u001B[39;00m \u001B[38;5;129;01mnot\u001B[39;00m \u001B[38;5;28mself\u001B[39m._closed:\n\u001B[32m--> \u001B[39m\u001B[32m657\u001B[39m     records = \u001B[38;5;28;43mself\u001B[39;49m\u001B[43m.\u001B[49m\u001B[43m_poll_once\u001B[49m\u001B[43m(\u001B[49m\u001B[43mremaining\u001B[49m\u001B[43m,\u001B[49m\u001B[43m \u001B[49m\u001B[43mmax_records\u001B[49m\u001B[43m,\u001B[49m\u001B[43m \u001B[49m\u001B[43mupdate_offsets\u001B[49m\u001B[43m=\u001B[49m\u001B[43mupdate_offsets\u001B[49m\u001B[43m)\u001B[49m\n\u001B[32m    658\u001B[39m     \u001B[38;5;28;01mif\u001B[39;00m records:\n\u001B[32m    659\u001B[39m         \u001B[38;5;28;01mreturn\u001B[39;00m records\n",
      "\u001B[36mFile \u001B[39m\u001B[32m/mnt/mls/venv/lib/python3.12/site-packages/kafka/consumer/group.py:679\u001B[39m, in \u001B[36mKafkaConsumer._poll_once\u001B[39m\u001B[34m(self, timeout_ms, max_records, update_offsets)\u001B[39m\n\u001B[32m    669\u001B[39m \u001B[38;5;28;01mdef\u001B[39;00m\u001B[38;5;250m \u001B[39m\u001B[34m_poll_once\u001B[39m(\u001B[38;5;28mself\u001B[39m, timeout_ms, max_records, update_offsets=\u001B[38;5;28;01mTrue\u001B[39;00m):\n\u001B[32m    670\u001B[39m \u001B[38;5;250m    \u001B[39m\u001B[33;03m\"\"\"Do one round of polling. In addition to checking for new data, this does\u001B[39;00m\n\u001B[32m    671\u001B[39m \u001B[33;03m    any needed heart-beating, auto-commits, and offset updates.\u001B[39;00m\n\u001B[32m    672\u001B[39m \n\u001B[32m   (...)\u001B[39m\u001B[32m    677\u001B[39m \u001B[33;03m        dict: Map of topic to list of records (may be empty).\u001B[39;00m\n\u001B[32m    678\u001B[39m \u001B[33;03m    \"\"\"\u001B[39;00m\n\u001B[32m--> \u001B[39m\u001B[32m679\u001B[39m     \u001B[38;5;28;43mself\u001B[39;49m\u001B[43m.\u001B[49m\u001B[43m_coordinator\u001B[49m\u001B[43m.\u001B[49m\u001B[43mpoll\u001B[49m\u001B[43m(\u001B[49m\u001B[43m)\u001B[49m\n\u001B[32m    681\u001B[39m     \u001B[38;5;66;03m# Fetch positions if we have partitions we're subscribed to that we\u001B[39;00m\n\u001B[32m    682\u001B[39m     \u001B[38;5;66;03m# don't know the offset for\u001B[39;00m\n\u001B[32m    683\u001B[39m     \u001B[38;5;28;01mif\u001B[39;00m \u001B[38;5;129;01mnot\u001B[39;00m \u001B[38;5;28mself\u001B[39m._subscription.has_all_fetch_positions():\n",
      "\u001B[36mFile \u001B[39m\u001B[32m/mnt/mls/venv/lib/python3.12/site-packages/kafka/coordinator/consumer.py:273\u001B[39m, in \u001B[36mConsumerCoordinator.poll\u001B[39m\u001B[34m(self)\u001B[39m\n\u001B[32m    270\u001B[39m     \u001B[38;5;28;01mreturn\u001B[39;00m\n\u001B[32m    272\u001B[39m \u001B[38;5;28mself\u001B[39m._invoke_completed_offset_commit_callbacks()\n\u001B[32m--> \u001B[39m\u001B[32m273\u001B[39m \u001B[38;5;28;43mself\u001B[39;49m\u001B[43m.\u001B[49m\u001B[43mensure_coordinator_ready\u001B[49m\u001B[43m(\u001B[49m\u001B[43m)\u001B[49m\n\u001B[32m    275\u001B[39m \u001B[38;5;28;01mif\u001B[39;00m \u001B[38;5;28mself\u001B[39m.config[\u001B[33m'\u001B[39m\u001B[33mapi_version\u001B[39m\u001B[33m'\u001B[39m] >= (\u001B[32m0\u001B[39m, \u001B[32m9\u001B[39m) \u001B[38;5;129;01mand\u001B[39;00m \u001B[38;5;28mself\u001B[39m._subscription.partitions_auto_assigned():\n\u001B[32m    276\u001B[39m     \u001B[38;5;28;01mif\u001B[39;00m \u001B[38;5;28mself\u001B[39m.need_rejoin():\n\u001B[32m    277\u001B[39m         \u001B[38;5;66;03m# due to a race condition between the initial metadata fetch and the\u001B[39;00m\n\u001B[32m    278\u001B[39m         \u001B[38;5;66;03m# initial rebalance, we need to ensure that the metadata is fresh\u001B[39;00m\n\u001B[32m   (...)\u001B[39m\u001B[32m    286\u001B[39m         \u001B[38;5;66;03m# essentially be ignored. See KAFKA-3949 for the complete\u001B[39;00m\n\u001B[32m    287\u001B[39m         \u001B[38;5;66;03m# description of the problem.\u001B[39;00m\n",
      "\u001B[36mFile \u001B[39m\u001B[32m/mnt/mls/venv/lib/python3.12/site-packages/kafka/coordinator/base.py:267\u001B[39m, in \u001B[36mBaseCoordinator.ensure_coordinator_ready\u001B[39m\u001B[34m(self)\u001B[39m\n\u001B[32m    265\u001B[39m         \u001B[38;5;28mself\u001B[39m._client.poll(future=metadata_update)\n\u001B[32m    266\u001B[39m     \u001B[38;5;28;01melse\u001B[39;00m:\n\u001B[32m--> \u001B[39m\u001B[32m267\u001B[39m         \u001B[43mtime\u001B[49m\u001B[43m.\u001B[49m\u001B[43msleep\u001B[49m\u001B[43m(\u001B[49m\u001B[38;5;28;43mself\u001B[39;49m\u001B[43m.\u001B[49m\u001B[43mconfig\u001B[49m\u001B[43m[\u001B[49m\u001B[33;43m'\u001B[39;49m\u001B[33;43mretry_backoff_ms\u001B[39;49m\u001B[33;43m'\u001B[39;49m\u001B[43m]\u001B[49m\u001B[43m \u001B[49m\u001B[43m/\u001B[49m\u001B[43m \u001B[49m\u001B[32;43m1000\u001B[39;49m\u001B[43m)\u001B[49m\n\u001B[32m    268\u001B[39m \u001B[38;5;28;01melse\u001B[39;00m:\n\u001B[32m    269\u001B[39m     \u001B[38;5;28;01mraise\u001B[39;00m future.exception\n",
      "\u001B[31mKeyboardInterrupt\u001B[39m: "
     ]
    }
   ],
   "execution_count": 14
  },
  {
   "metadata": {
    "ExecuteTime": {
     "end_time": "2025-03-16T07:15:58.051327Z",
     "start_time": "2025-03-16T07:13:38.081001Z"
    }
   },
   "cell_type": "code",
   "source": [
    "from kafka import KafkaConsumer\n",
    "import json\n",
    "\n",
    "# Initialize Kafka Consumer\n",
    "consumer = KafkaConsumer(\n",
    "    'test-topic',  # Topic to consume messages from\n",
    "    bootstrap_servers='kafka.example.internal:9092',  # Kafka broker address\n",
    "    auto_offset_reset='earliest',  # Start from the earliest message if no offset is found\n",
    "    group_id='test-group',  # Consumer group ID\n",
    "    enable_auto_commit=True,  # Enable auto-commit\n",
    "    value_deserializer=lambda m: json.loads(m.decode('utf-8'))  # Deserialize JSON messages\n",
    ")\n",
    "\n",
    "print(\"Consumer is ready to consume messages...\")\n",
    "\n",
    "try:\n",
    "    # Poll for messages (you can adjust timeout_ms if needed)\n",
    "    messages = consumer.poll(timeout_ms=5000)  # Poll for new messages for 5 seconds\n",
    "\n",
    "    if messages:\n",
    "        print(\"Messages found!\")\n",
    "        for topic_partition, records in messages.items():\n",
    "            for record in records:\n",
    "                print(f\"Consumed message: {record.value}\")  # Print the decoded message\n",
    "    else:\n",
    "        print(\"No new messages found, retrying...\")  # No new messages, will retry after 5 seconds\n",
    "\n",
    "except Exception as e:\n",
    "    print(f\"Error while consuming: {e}\")\n",
    "finally:\n",
    "    consumer.close()  # Close the consumer connection when done\n"
   ],
   "id": "fcb823e136a2605",
   "outputs": [
    {
     "name": "stdout",
     "output_type": "stream",
     "text": [
      "Consumer is ready to consume messages...\n"
     ]
    },
    {
     "ename": "KeyboardInterrupt",
     "evalue": "",
     "output_type": "error",
     "traceback": [
      "\u001B[31m---------------------------------------------------------------------------\u001B[39m",
      "\u001B[31mKeyboardInterrupt\u001B[39m                         Traceback (most recent call last)",
      "\u001B[36mCell\u001B[39m\u001B[36m \u001B[39m\u001B[32mIn[16]\u001B[39m\u001B[32m, line 18\u001B[39m\n\u001B[32m     14\u001B[39m \u001B[38;5;28mprint\u001B[39m(\u001B[33m\"\u001B[39m\u001B[33mConsumer is ready to consume messages...\u001B[39m\u001B[33m\"\u001B[39m)\n\u001B[32m     16\u001B[39m \u001B[38;5;28;01mtry\u001B[39;00m:\n\u001B[32m     17\u001B[39m     \u001B[38;5;66;03m# Poll for messages (you can adjust timeout_ms if needed)\u001B[39;00m\n\u001B[32m---> \u001B[39m\u001B[32m18\u001B[39m     messages = \u001B[43mconsumer\u001B[49m\u001B[43m.\u001B[49m\u001B[43mpoll\u001B[49m\u001B[43m(\u001B[49m\u001B[43mtimeout_ms\u001B[49m\u001B[43m=\u001B[49m\u001B[32;43m5000\u001B[39;49m\u001B[43m)\u001B[49m  \u001B[38;5;66;03m# Poll for new messages for 5 seconds\u001B[39;00m\n\u001B[32m     20\u001B[39m     \u001B[38;5;28;01mif\u001B[39;00m messages:\n\u001B[32m     21\u001B[39m         \u001B[38;5;28mprint\u001B[39m(\u001B[33m\"\u001B[39m\u001B[33mMessages found!\u001B[39m\u001B[33m\"\u001B[39m)\n",
      "\u001B[36mFile \u001B[39m\u001B[32m/mnt/mls/venv/lib/python3.12/site-packages/kafka/consumer/group.py:657\u001B[39m, in \u001B[36mKafkaConsumer.poll\u001B[39m\u001B[34m(self, timeout_ms, max_records, update_offsets)\u001B[39m\n\u001B[32m    655\u001B[39m remaining = timeout_ms\n\u001B[32m    656\u001B[39m \u001B[38;5;28;01mwhile\u001B[39;00m \u001B[38;5;129;01mnot\u001B[39;00m \u001B[38;5;28mself\u001B[39m._closed:\n\u001B[32m--> \u001B[39m\u001B[32m657\u001B[39m     records = \u001B[38;5;28;43mself\u001B[39;49m\u001B[43m.\u001B[49m\u001B[43m_poll_once\u001B[49m\u001B[43m(\u001B[49m\u001B[43mremaining\u001B[49m\u001B[43m,\u001B[49m\u001B[43m \u001B[49m\u001B[43mmax_records\u001B[49m\u001B[43m,\u001B[49m\u001B[43m \u001B[49m\u001B[43mupdate_offsets\u001B[49m\u001B[43m=\u001B[49m\u001B[43mupdate_offsets\u001B[49m\u001B[43m)\u001B[49m\n\u001B[32m    658\u001B[39m     \u001B[38;5;28;01mif\u001B[39;00m records:\n\u001B[32m    659\u001B[39m         \u001B[38;5;28;01mreturn\u001B[39;00m records\n",
      "\u001B[36mFile \u001B[39m\u001B[32m/mnt/mls/venv/lib/python3.12/site-packages/kafka/consumer/group.py:679\u001B[39m, in \u001B[36mKafkaConsumer._poll_once\u001B[39m\u001B[34m(self, timeout_ms, max_records, update_offsets)\u001B[39m\n\u001B[32m    669\u001B[39m \u001B[38;5;28;01mdef\u001B[39;00m\u001B[38;5;250m \u001B[39m\u001B[34m_poll_once\u001B[39m(\u001B[38;5;28mself\u001B[39m, timeout_ms, max_records, update_offsets=\u001B[38;5;28;01mTrue\u001B[39;00m):\n\u001B[32m    670\u001B[39m \u001B[38;5;250m    \u001B[39m\u001B[33;03m\"\"\"Do one round of polling. In addition to checking for new data, this does\u001B[39;00m\n\u001B[32m    671\u001B[39m \u001B[33;03m    any needed heart-beating, auto-commits, and offset updates.\u001B[39;00m\n\u001B[32m    672\u001B[39m \n\u001B[32m   (...)\u001B[39m\u001B[32m    677\u001B[39m \u001B[33;03m        dict: Map of topic to list of records (may be empty).\u001B[39;00m\n\u001B[32m    678\u001B[39m \u001B[33;03m    \"\"\"\u001B[39;00m\n\u001B[32m--> \u001B[39m\u001B[32m679\u001B[39m     \u001B[38;5;28;43mself\u001B[39;49m\u001B[43m.\u001B[49m\u001B[43m_coordinator\u001B[49m\u001B[43m.\u001B[49m\u001B[43mpoll\u001B[49m\u001B[43m(\u001B[49m\u001B[43m)\u001B[49m\n\u001B[32m    681\u001B[39m     \u001B[38;5;66;03m# Fetch positions if we have partitions we're subscribed to that we\u001B[39;00m\n\u001B[32m    682\u001B[39m     \u001B[38;5;66;03m# don't know the offset for\u001B[39;00m\n\u001B[32m    683\u001B[39m     \u001B[38;5;28;01mif\u001B[39;00m \u001B[38;5;129;01mnot\u001B[39;00m \u001B[38;5;28mself\u001B[39m._subscription.has_all_fetch_positions():\n",
      "\u001B[36mFile \u001B[39m\u001B[32m/mnt/mls/venv/lib/python3.12/site-packages/kafka/coordinator/consumer.py:273\u001B[39m, in \u001B[36mConsumerCoordinator.poll\u001B[39m\u001B[34m(self)\u001B[39m\n\u001B[32m    270\u001B[39m     \u001B[38;5;28;01mreturn\u001B[39;00m\n\u001B[32m    272\u001B[39m \u001B[38;5;28mself\u001B[39m._invoke_completed_offset_commit_callbacks()\n\u001B[32m--> \u001B[39m\u001B[32m273\u001B[39m \u001B[38;5;28;43mself\u001B[39;49m\u001B[43m.\u001B[49m\u001B[43mensure_coordinator_ready\u001B[49m\u001B[43m(\u001B[49m\u001B[43m)\u001B[49m\n\u001B[32m    275\u001B[39m \u001B[38;5;28;01mif\u001B[39;00m \u001B[38;5;28mself\u001B[39m.config[\u001B[33m'\u001B[39m\u001B[33mapi_version\u001B[39m\u001B[33m'\u001B[39m] >= (\u001B[32m0\u001B[39m, \u001B[32m9\u001B[39m) \u001B[38;5;129;01mand\u001B[39;00m \u001B[38;5;28mself\u001B[39m._subscription.partitions_auto_assigned():\n\u001B[32m    276\u001B[39m     \u001B[38;5;28;01mif\u001B[39;00m \u001B[38;5;28mself\u001B[39m.need_rejoin():\n\u001B[32m    277\u001B[39m         \u001B[38;5;66;03m# due to a race condition between the initial metadata fetch and the\u001B[39;00m\n\u001B[32m    278\u001B[39m         \u001B[38;5;66;03m# initial rebalance, we need to ensure that the metadata is fresh\u001B[39;00m\n\u001B[32m   (...)\u001B[39m\u001B[32m    286\u001B[39m         \u001B[38;5;66;03m# essentially be ignored. See KAFKA-3949 for the complete\u001B[39;00m\n\u001B[32m    287\u001B[39m         \u001B[38;5;66;03m# description of the problem.\u001B[39;00m\n",
      "\u001B[36mFile \u001B[39m\u001B[32m/mnt/mls/venv/lib/python3.12/site-packages/kafka/coordinator/base.py:267\u001B[39m, in \u001B[36mBaseCoordinator.ensure_coordinator_ready\u001B[39m\u001B[34m(self)\u001B[39m\n\u001B[32m    265\u001B[39m         \u001B[38;5;28mself\u001B[39m._client.poll(future=metadata_update)\n\u001B[32m    266\u001B[39m     \u001B[38;5;28;01melse\u001B[39;00m:\n\u001B[32m--> \u001B[39m\u001B[32m267\u001B[39m         \u001B[43mtime\u001B[49m\u001B[43m.\u001B[49m\u001B[43msleep\u001B[49m\u001B[43m(\u001B[49m\u001B[38;5;28;43mself\u001B[39;49m\u001B[43m.\u001B[49m\u001B[43mconfig\u001B[49m\u001B[43m[\u001B[49m\u001B[33;43m'\u001B[39;49m\u001B[33;43mretry_backoff_ms\u001B[39;49m\u001B[33;43m'\u001B[39;49m\u001B[43m]\u001B[49m\u001B[43m \u001B[49m\u001B[43m/\u001B[49m\u001B[43m \u001B[49m\u001B[32;43m1000\u001B[39;49m\u001B[43m)\u001B[49m\n\u001B[32m    268\u001B[39m \u001B[38;5;28;01melse\u001B[39;00m:\n\u001B[32m    269\u001B[39m     \u001B[38;5;28;01mraise\u001B[39;00m future.exception\n",
      "\u001B[31mKeyboardInterrupt\u001B[39m: "
     ]
    }
   ],
   "execution_count": 16
  },
  {
   "metadata": {
    "ExecuteTime": {
     "end_time": "2025-03-16T08:16:13.461228Z",
     "start_time": "2025-03-16T08:16:13.431474Z"
    }
   },
   "cell_type": "code",
   "source": [
    "from kafka import KafkaConsumer\n",
    "import json\n",
    "\n",
    "consumer = KafkaConsumer(\n",
    "    'test-topic',\n",
    "    bootstrap_servers='kafka.example.internal:9092',  # or broker2.example.internal:9093\n",
    "    group_id='test-group',\n",
    "    auto_offset_reset='earliest',\n",
    "    value_deserializer=lambda m: json.loads(m.decode('utf-8'))\n",
    ")\n",
    "\n",
    "for message in consumer:\n",
    "    print(f\"Consumed: {message.value.decode('utf-8')}\")\n"
   ],
   "id": "cffd73289ec33cb6",
   "outputs": [
    {
     "ename": "NoBrokersAvailable",
     "evalue": "NoBrokersAvailable",
     "output_type": "error",
     "traceback": [
      "\u001B[31m---------------------------------------------------------------------------\u001B[39m",
      "\u001B[31mNoBrokersAvailable\u001B[39m                        Traceback (most recent call last)",
      "\u001B[36mCell\u001B[39m\u001B[36m \u001B[39m\u001B[32mIn[19]\u001B[39m\u001B[32m, line 4\u001B[39m\n\u001B[32m      1\u001B[39m \u001B[38;5;28;01mfrom\u001B[39;00m\u001B[38;5;250m \u001B[39m\u001B[34;01mkafka\u001B[39;00m\u001B[38;5;250m \u001B[39m\u001B[38;5;28;01mimport\u001B[39;00m KafkaConsumer\n\u001B[32m      2\u001B[39m \u001B[38;5;28;01mimport\u001B[39;00m\u001B[38;5;250m \u001B[39m\u001B[34;01mjson\u001B[39;00m\n\u001B[32m----> \u001B[39m\u001B[32m4\u001B[39m consumer = \u001B[43mKafkaConsumer\u001B[49m\u001B[43m(\u001B[49m\n\u001B[32m      5\u001B[39m \u001B[43m    \u001B[49m\u001B[33;43m'\u001B[39;49m\u001B[33;43mtest-topic\u001B[39;49m\u001B[33;43m'\u001B[39;49m\u001B[43m,\u001B[49m\n\u001B[32m      6\u001B[39m \u001B[43m    \u001B[49m\u001B[43mbootstrap_servers\u001B[49m\u001B[43m=\u001B[49m\u001B[33;43m'\u001B[39;49m\u001B[33;43mkafka.darklycreative.internal:9092\u001B[39;49m\u001B[33;43m'\u001B[39;49m\u001B[43m,\u001B[49m\u001B[43m  \u001B[49m\u001B[38;5;66;43;03m# or broker2.darklycreative.internal:9093\u001B[39;49;00m\n\u001B[32m      7\u001B[39m \u001B[43m    \u001B[49m\u001B[43mgroup_id\u001B[49m\u001B[43m=\u001B[49m\u001B[33;43m'\u001B[39;49m\u001B[33;43mtest-group\u001B[39;49m\u001B[33;43m'\u001B[39;49m\u001B[43m,\u001B[49m\n\u001B[32m      8\u001B[39m \u001B[43m    \u001B[49m\u001B[43mauto_offset_reset\u001B[49m\u001B[43m=\u001B[49m\u001B[33;43m'\u001B[39;49m\u001B[33;43mearliest\u001B[39;49m\u001B[33;43m'\u001B[39;49m\u001B[43m,\u001B[49m\n\u001B[32m      9\u001B[39m \u001B[43m    \u001B[49m\u001B[43mvalue_deserializer\u001B[49m\u001B[43m=\u001B[49m\u001B[38;5;28;43;01mlambda\u001B[39;49;00m\u001B[43m \u001B[49m\u001B[43mm\u001B[49m\u001B[43m:\u001B[49m\u001B[43m \u001B[49m\u001B[43mjson\u001B[49m\u001B[43m.\u001B[49m\u001B[43mloads\u001B[49m\u001B[43m(\u001B[49m\u001B[43mm\u001B[49m\u001B[43m.\u001B[49m\u001B[43mdecode\u001B[49m\u001B[43m(\u001B[49m\u001B[33;43m'\u001B[39;49m\u001B[33;43mutf-8\u001B[39;49m\u001B[33;43m'\u001B[39;49m\u001B[43m)\u001B[49m\u001B[43m)\u001B[49m\n\u001B[32m     10\u001B[39m \u001B[43m)\u001B[49m\n\u001B[32m     12\u001B[39m \u001B[38;5;28;01mfor\u001B[39;00m message \u001B[38;5;129;01min\u001B[39;00m consumer:\n\u001B[32m     13\u001B[39m     \u001B[38;5;28mprint\u001B[39m(\u001B[33mf\u001B[39m\u001B[33m\"\u001B[39m\u001B[33mConsumed: \u001B[39m\u001B[38;5;132;01m{\u001B[39;00mmessage.value.decode(\u001B[33m'\u001B[39m\u001B[33mutf-8\u001B[39m\u001B[33m'\u001B[39m)\u001B[38;5;132;01m}\u001B[39;00m\u001B[33m\"\u001B[39m)\n",
      "\u001B[36mFile \u001B[39m\u001B[32m/mnt/mls/venv/lib/python3.12/site-packages/kafka/consumer/group.py:358\u001B[39m, in \u001B[36mKafkaConsumer.__init__\u001B[39m\u001B[34m(self, *topics, **configs)\u001B[39m\n\u001B[32m    354\u001B[39m         \u001B[38;5;28mself\u001B[39m.config[\u001B[33m'\u001B[39m\u001B[33mapi_version\u001B[39m\u001B[33m'\u001B[39m] = \u001B[38;5;28mtuple\u001B[39m(\u001B[38;5;28mmap\u001B[39m(\u001B[38;5;28mint\u001B[39m, str_version.split(\u001B[33m'\u001B[39m\u001B[33m.\u001B[39m\u001B[33m'\u001B[39m)))\n\u001B[32m    355\u001B[39m     log.warning(\u001B[33m'\u001B[39m\u001B[33muse api_version=\u001B[39m\u001B[38;5;132;01m%s\u001B[39;00m\u001B[33m [tuple] -- \u001B[39m\u001B[33m\"\u001B[39m\u001B[38;5;132;01m%s\u001B[39;00m\u001B[33m\"\u001B[39m\u001B[33m as str is deprecated\u001B[39m\u001B[33m'\u001B[39m,\n\u001B[32m    356\u001B[39m                 \u001B[38;5;28mstr\u001B[39m(\u001B[38;5;28mself\u001B[39m.config[\u001B[33m'\u001B[39m\u001B[33mapi_version\u001B[39m\u001B[33m'\u001B[39m]), str_version)\n\u001B[32m--> \u001B[39m\u001B[32m358\u001B[39m \u001B[38;5;28mself\u001B[39m._client = \u001B[38;5;28;43mself\u001B[39;49m\u001B[43m.\u001B[49m\u001B[43mconfig\u001B[49m\u001B[43m[\u001B[49m\u001B[33;43m'\u001B[39;49m\u001B[33;43mkafka_client\u001B[39;49m\u001B[33;43m'\u001B[39;49m\u001B[43m]\u001B[49m\u001B[43m(\u001B[49m\u001B[43mmetrics\u001B[49m\u001B[43m=\u001B[49m\u001B[38;5;28;43mself\u001B[39;49m\u001B[43m.\u001B[49m\u001B[43m_metrics\u001B[49m\u001B[43m,\u001B[49m\u001B[43m \u001B[49m\u001B[43m*\u001B[49m\u001B[43m*\u001B[49m\u001B[38;5;28;43mself\u001B[39;49m\u001B[43m.\u001B[49m\u001B[43mconfig\u001B[49m\u001B[43m)\u001B[49m\n\u001B[32m    360\u001B[39m \u001B[38;5;66;03m# Get auto-discovered version from client if necessary\u001B[39;00m\n\u001B[32m    361\u001B[39m \u001B[38;5;28;01mif\u001B[39;00m \u001B[38;5;28mself\u001B[39m.config[\u001B[33m'\u001B[39m\u001B[33mapi_version\u001B[39m\u001B[33m'\u001B[39m] \u001B[38;5;129;01mis\u001B[39;00m \u001B[38;5;28;01mNone\u001B[39;00m:\n",
      "\u001B[36mFile \u001B[39m\u001B[32m/mnt/mls/venv/lib/python3.12/site-packages/kafka/client_async.py:240\u001B[39m, in \u001B[36mKafkaClient.__init__\u001B[39m\u001B[34m(self, **configs)\u001B[39m\n\u001B[32m    238\u001B[39m \u001B[38;5;66;03m# Check Broker Version if not set explicitly\u001B[39;00m\n\u001B[32m    239\u001B[39m \u001B[38;5;28;01mif\u001B[39;00m \u001B[38;5;28mself\u001B[39m.config[\u001B[33m'\u001B[39m\u001B[33mapi_version\u001B[39m\u001B[33m'\u001B[39m] \u001B[38;5;129;01mis\u001B[39;00m \u001B[38;5;28;01mNone\u001B[39;00m:\n\u001B[32m--> \u001B[39m\u001B[32m240\u001B[39m     \u001B[38;5;28mself\u001B[39m.config[\u001B[33m'\u001B[39m\u001B[33mapi_version\u001B[39m\u001B[33m'\u001B[39m] = \u001B[38;5;28;43mself\u001B[39;49m\u001B[43m.\u001B[49m\u001B[43mcheck_version\u001B[49m\u001B[43m(\u001B[49m\u001B[43m)\u001B[49m\n",
      "\u001B[36mFile \u001B[39m\u001B[32m/mnt/mls/venv/lib/python3.12/site-packages/kafka/client_async.py:946\u001B[39m, in \u001B[36mKafkaClient.check_version\u001B[39m\u001B[34m(self, node_id, timeout, strict)\u001B[39m\n\u001B[32m    944\u001B[39m \u001B[38;5;28;01mif\u001B[39;00m try_node \u001B[38;5;129;01mis\u001B[39;00m \u001B[38;5;28;01mNone\u001B[39;00m:\n\u001B[32m    945\u001B[39m     \u001B[38;5;28mself\u001B[39m._lock.release()\n\u001B[32m--> \u001B[39m\u001B[32m946\u001B[39m     \u001B[38;5;28;01mraise\u001B[39;00m Errors.NoBrokersAvailable()\n\u001B[32m    947\u001B[39m \u001B[38;5;28;01mif\u001B[39;00m \u001B[38;5;129;01mnot\u001B[39;00m \u001B[38;5;28mself\u001B[39m._init_connect(try_node):\n\u001B[32m    948\u001B[39m     \u001B[38;5;28;01mif\u001B[39;00m try_node == node_id:\n",
      "\u001B[31mNoBrokersAvailable\u001B[39m: NoBrokersAvailable"
     ]
    }
   ],
   "execution_count": 19
  },
  {
   "metadata": {},
   "cell_type": "code",
   "outputs": [],
   "execution_count": null,
   "source": "",
   "id": "6258615ab1a8574e"
  }
 ],
 "metadata": {
  "kernelspec": {
   "display_name": "Python 3",
   "language": "python",
   "name": "python3"
  },
  "language_info": {
   "codemirror_mode": {
    "name": "ipython",
    "version": 2
   },
   "file_extension": ".py",
   "mimetype": "text/x-python",
   "name": "python",
   "nbconvert_exporter": "python",
   "pygments_lexer": "ipython2",
   "version": "2.7.6"
  }
 },
 "nbformat": 4,
 "nbformat_minor": 5
}
