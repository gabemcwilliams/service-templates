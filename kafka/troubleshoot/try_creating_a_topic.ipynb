{
 "cells": [
  {
   "cell_type": "code",
   "id": "initial_id",
   "metadata": {
    "collapsed": true,
    "ExecuteTime": {
     "end_time": "2025-03-16T06:14:26.190916Z",
     "start_time": "2025-03-16T06:14:26.189370Z"
    }
   },
   "source": [
    "import pandas as pd\n",
    "import numpy as np\n",
    "import re"
   ],
   "outputs": [],
   "execution_count": 5
  },
  {
   "metadata": {
    "ExecuteTime": {
     "end_time": "2025-03-16T08:51:22.048888Z",
     "start_time": "2025-03-16T08:51:21.807711Z"
    }
   },
   "cell_type": "code",
   "source": [
    "from kafka import KafkaProducer\n",
    "from kafka.admin import KafkaAdminClient, NewTopic\n",
    "from kafka.errors import KafkaError\n",
    "\n",
    "# Initialize the KafkaAdminClient\n",
    "admin_client = KafkaAdminClient(\n",
    "    bootstrap_servers=\"kafka.example.internal:9092\",\n",
    "    client_id=\"topic2\"\n",
    ")\n",
    "\n",
    "# Define the new topic\n",
    "topic = NewTopic(\n",
    "    name=\"my_new_topic\",\n",
    "    num_partitions=3,\n",
    "    replication_factor=1\n",
    ")\n",
    "\n",
    "try:\n",
    "    # Attempt to create the topic\n",
    "    admin_client.create_topics(new_topics=[topic], validate_only=False)\n",
    "    print(\"Topic created successfully.\")\n",
    "except KafkaError as e:\n",
    "    # Handle any Kafka errors\n",
    "    print(f\"Failed to create topic: {e}\")\n",
    "finally:\n",
    "    # Close the admin client to release resources\n",
    "    admin_client.close()\n"
   ],
   "id": "b32b9df72cfc5704",
   "outputs": [
    {
     "name": "stdout",
     "output_type": "stream",
     "text": [
      "Topic created successfully.\n"
     ]
    }
   ],
   "execution_count": 7
  },
  {
   "metadata": {
    "ExecuteTime": {
     "end_time": "2025-03-16T05:08:47.509871Z",
     "start_time": "2025-03-16T05:08:37.262626Z"
    }
   },
   "cell_type": "code",
   "source": [
    "from kafka import KafkaConsumer\n",
    "\n",
    "consumer = KafkaConsumer(\n",
    "    'test-topic',\n",
    "    bootstrap_servers='kafka.example.internal:9092',\n",
    "    auto_offset_reset='earliest'\n",
    ")\n",
    "\n",
    "for message in consumer:\n",
    "    print(f\"Consumed: {message.value.decode('utf-8')}\")\n"
   ],
   "id": "232d454d712b9750",
   "outputs": [
    {
     "ename": "KeyboardInterrupt",
     "evalue": "",
     "output_type": "error",
     "traceback": [
      "\u001B[31m---------------------------------------------------------------------------\u001B[39m",
      "\u001B[31mKeyboardInterrupt\u001B[39m                         Traceback (most recent call last)",
      "\u001B[36mCell\u001B[39m\u001B[36m \u001B[39m\u001B[32mIn[4]\u001B[39m\u001B[32m, line 9\u001B[39m\n\u001B[32m      1\u001B[39m \u001B[38;5;28;01mfrom\u001B[39;00m\u001B[38;5;250m \u001B[39m\u001B[34;01mkafka\u001B[39;00m\u001B[38;5;250m \u001B[39m\u001B[38;5;28;01mimport\u001B[39;00m KafkaConsumer\n\u001B[32m      3\u001B[39m consumer = KafkaConsumer(\n\u001B[32m      4\u001B[39m     \u001B[33m'\u001B[39m\u001B[33mtest-topic\u001B[39m\u001B[33m'\u001B[39m,\n\u001B[32m      5\u001B[39m     bootstrap_servers=\u001B[33m'\u001B[39m\u001B[33mkafka.darklycreative.internal:9092\u001B[39m\u001B[33m'\u001B[39m,\n\u001B[32m      6\u001B[39m     auto_offset_reset=\u001B[33m'\u001B[39m\u001B[33mearliest\u001B[39m\u001B[33m'\u001B[39m\n\u001B[32m      7\u001B[39m )\n\u001B[32m----> \u001B[39m\u001B[32m9\u001B[39m \u001B[38;5;28;43;01mfor\u001B[39;49;00m\u001B[43m \u001B[49m\u001B[43mmessage\u001B[49m\u001B[43m \u001B[49m\u001B[38;5;129;43;01min\u001B[39;49;00m\u001B[43m \u001B[49m\u001B[43mconsumer\u001B[49m\u001B[43m:\u001B[49m\n\u001B[32m     10\u001B[39m \u001B[43m    \u001B[49m\u001B[38;5;28;43mprint\u001B[39;49m\u001B[43m(\u001B[49m\u001B[33;43mf\u001B[39;49m\u001B[33;43m\"\u001B[39;49m\u001B[33;43mConsumed: \u001B[39;49m\u001B[38;5;132;43;01m{\u001B[39;49;00m\u001B[43mmessage\u001B[49m\u001B[43m.\u001B[49m\u001B[43mvalue\u001B[49m\u001B[43m.\u001B[49m\u001B[43mdecode\u001B[49m\u001B[43m(\u001B[49m\u001B[33;43m'\u001B[39;49m\u001B[33;43mutf-8\u001B[39;49m\u001B[33;43m'\u001B[39;49m\u001B[43m)\u001B[49m\u001B[38;5;132;43;01m}\u001B[39;49;00m\u001B[33;43m\"\u001B[39;49m\u001B[43m)\u001B[49m\n",
      "\u001B[36mFile \u001B[39m\u001B[32m/mnt/mls/venv/lib/python3.12/site-packages/kafka/consumer/group.py:1197\u001B[39m, in \u001B[36mKafkaConsumer.__next__\u001B[39m\u001B[34m(self)\u001B[39m\n\u001B[32m   1195\u001B[39m     \u001B[38;5;28;01mreturn\u001B[39;00m \u001B[38;5;28mself\u001B[39m.next_v1()\n\u001B[32m   1196\u001B[39m \u001B[38;5;28;01melse\u001B[39;00m:\n\u001B[32m-> \u001B[39m\u001B[32m1197\u001B[39m     \u001B[38;5;28;01mreturn\u001B[39;00m \u001B[38;5;28;43mself\u001B[39;49m\u001B[43m.\u001B[49m\u001B[43mnext_v2\u001B[49m\u001B[43m(\u001B[49m\u001B[43m)\u001B[49m\n",
      "\u001B[36mFile \u001B[39m\u001B[32m/mnt/mls/venv/lib/python3.12/site-packages/kafka/consumer/group.py:1205\u001B[39m, in \u001B[36mKafkaConsumer.next_v2\u001B[39m\u001B[34m(self)\u001B[39m\n\u001B[32m   1203\u001B[39m     \u001B[38;5;28mself\u001B[39m._iterator = \u001B[38;5;28mself\u001B[39m._message_generator_v2()\n\u001B[32m   1204\u001B[39m \u001B[38;5;28;01mtry\u001B[39;00m:\n\u001B[32m-> \u001B[39m\u001B[32m1205\u001B[39m     \u001B[38;5;28;01mreturn\u001B[39;00m \u001B[38;5;28;43mnext\u001B[39;49m\u001B[43m(\u001B[49m\u001B[38;5;28;43mself\u001B[39;49m\u001B[43m.\u001B[49m\u001B[43m_iterator\u001B[49m\u001B[43m)\u001B[49m\n\u001B[32m   1206\u001B[39m \u001B[38;5;28;01mexcept\u001B[39;00m \u001B[38;5;167;01mStopIteration\u001B[39;00m:\n\u001B[32m   1207\u001B[39m     \u001B[38;5;28mself\u001B[39m._iterator = \u001B[38;5;28;01mNone\u001B[39;00m\n",
      "\u001B[36mFile \u001B[39m\u001B[32m/mnt/mls/venv/lib/python3.12/site-packages/kafka/consumer/group.py:1120\u001B[39m, in \u001B[36mKafkaConsumer._message_generator_v2\u001B[39m\u001B[34m(self)\u001B[39m\n\u001B[32m   1118\u001B[39m \u001B[38;5;28;01mdef\u001B[39;00m\u001B[38;5;250m \u001B[39m\u001B[34m_message_generator_v2\u001B[39m(\u001B[38;5;28mself\u001B[39m):\n\u001B[32m   1119\u001B[39m     timeout_ms = \u001B[32m1000\u001B[39m * (\u001B[38;5;28mself\u001B[39m._consumer_timeout - time.time())\n\u001B[32m-> \u001B[39m\u001B[32m1120\u001B[39m     record_map = \u001B[38;5;28;43mself\u001B[39;49m\u001B[43m.\u001B[49m\u001B[43mpoll\u001B[49m\u001B[43m(\u001B[49m\u001B[43mtimeout_ms\u001B[49m\u001B[43m=\u001B[49m\u001B[43mtimeout_ms\u001B[49m\u001B[43m,\u001B[49m\u001B[43m \u001B[49m\u001B[43mupdate_offsets\u001B[49m\u001B[43m=\u001B[49m\u001B[38;5;28;43;01mFalse\u001B[39;49;00m\u001B[43m)\u001B[49m\n\u001B[32m   1121\u001B[39m     \u001B[38;5;28;01mfor\u001B[39;00m tp, records \u001B[38;5;129;01min\u001B[39;00m six.iteritems(record_map):\n\u001B[32m   1122\u001B[39m         \u001B[38;5;66;03m# Generators are stateful, and it is possible that the tp / records\u001B[39;00m\n\u001B[32m   1123\u001B[39m         \u001B[38;5;66;03m# here may become stale during iteration -- i.e., we seek to a\u001B[39;00m\n\u001B[32m   1124\u001B[39m         \u001B[38;5;66;03m# different offset, pause consumption, or lose assignment.\u001B[39;00m\n\u001B[32m   1125\u001B[39m         \u001B[38;5;28;01mfor\u001B[39;00m record \u001B[38;5;129;01min\u001B[39;00m records:\n\u001B[32m   1126\u001B[39m             \u001B[38;5;66;03m# is_fetchable(tp) should handle assignment changes and offset\u001B[39;00m\n\u001B[32m   1127\u001B[39m             \u001B[38;5;66;03m# resets; for all other changes (e.g., seeks) we'll rely on the\u001B[39;00m\n\u001B[32m   1128\u001B[39m             \u001B[38;5;66;03m# outer function destroying the existing iterator/generator\u001B[39;00m\n\u001B[32m   1129\u001B[39m             \u001B[38;5;66;03m# via self._iterator = None\u001B[39;00m\n",
      "\u001B[36mFile \u001B[39m\u001B[32m/mnt/mls/venv/lib/python3.12/site-packages/kafka/consumer/group.py:657\u001B[39m, in \u001B[36mKafkaConsumer.poll\u001B[39m\u001B[34m(self, timeout_ms, max_records, update_offsets)\u001B[39m\n\u001B[32m    655\u001B[39m remaining = timeout_ms\n\u001B[32m    656\u001B[39m \u001B[38;5;28;01mwhile\u001B[39;00m \u001B[38;5;129;01mnot\u001B[39;00m \u001B[38;5;28mself\u001B[39m._closed:\n\u001B[32m--> \u001B[39m\u001B[32m657\u001B[39m     records = \u001B[38;5;28;43mself\u001B[39;49m\u001B[43m.\u001B[49m\u001B[43m_poll_once\u001B[49m\u001B[43m(\u001B[49m\u001B[43mremaining\u001B[49m\u001B[43m,\u001B[49m\u001B[43m \u001B[49m\u001B[43mmax_records\u001B[49m\u001B[43m,\u001B[49m\u001B[43m \u001B[49m\u001B[43mupdate_offsets\u001B[49m\u001B[43m=\u001B[49m\u001B[43mupdate_offsets\u001B[49m\u001B[43m)\u001B[49m\n\u001B[32m    658\u001B[39m     \u001B[38;5;28;01mif\u001B[39;00m records:\n\u001B[32m    659\u001B[39m         \u001B[38;5;28;01mreturn\u001B[39;00m records\n",
      "\u001B[36mFile \u001B[39m\u001B[32m/mnt/mls/venv/lib/python3.12/site-packages/kafka/consumer/group.py:706\u001B[39m, in \u001B[36mKafkaConsumer._poll_once\u001B[39m\u001B[34m(self, timeout_ms, max_records, update_offsets)\u001B[39m\n\u001B[32m    703\u001B[39m     \u001B[38;5;28mself\u001B[39m._client.poll(timeout_ms=\u001B[32m0\u001B[39m)\n\u001B[32m    705\u001B[39m timeout_ms = \u001B[38;5;28mmin\u001B[39m(timeout_ms, \u001B[38;5;28mself\u001B[39m._coordinator.time_to_next_poll() * \u001B[32m1000\u001B[39m)\n\u001B[32m--> \u001B[39m\u001B[32m706\u001B[39m \u001B[38;5;28;43mself\u001B[39;49m\u001B[43m.\u001B[49m\u001B[43m_client\u001B[49m\u001B[43m.\u001B[49m\u001B[43mpoll\u001B[49m\u001B[43m(\u001B[49m\u001B[43mtimeout_ms\u001B[49m\u001B[43m=\u001B[49m\u001B[43mtimeout_ms\u001B[49m\u001B[43m)\u001B[49m\n\u001B[32m    707\u001B[39m \u001B[38;5;66;03m# after the long poll, we should check whether the group needs to rebalance\u001B[39;00m\n\u001B[32m    708\u001B[39m \u001B[38;5;66;03m# prior to returning data so that the group can stabilize faster\u001B[39;00m\n\u001B[32m    709\u001B[39m \u001B[38;5;28;01mif\u001B[39;00m \u001B[38;5;28mself\u001B[39m._coordinator.need_rejoin():\n",
      "\u001B[36mFile \u001B[39m\u001B[32m/mnt/mls/venv/lib/python3.12/site-packages/kafka/client_async.py:608\u001B[39m, in \u001B[36mKafkaClient.poll\u001B[39m\u001B[34m(self, timeout_ms, future)\u001B[39m\n\u001B[32m    601\u001B[39m         timeout = \u001B[38;5;28mmin\u001B[39m(\n\u001B[32m    602\u001B[39m             timeout_ms,\n\u001B[32m    603\u001B[39m             metadata_timeout_ms,\n\u001B[32m    604\u001B[39m             idle_connection_timeout_ms,\n\u001B[32m    605\u001B[39m             request_timeout_ms)\n\u001B[32m    606\u001B[39m         timeout = \u001B[38;5;28mmax\u001B[39m(\u001B[32m0\u001B[39m, timeout)  \u001B[38;5;66;03m# avoid negative timeouts\u001B[39;00m\n\u001B[32m--> \u001B[39m\u001B[32m608\u001B[39m     \u001B[38;5;28;43mself\u001B[39;49m\u001B[43m.\u001B[49m\u001B[43m_poll\u001B[49m\u001B[43m(\u001B[49m\u001B[43mtimeout\u001B[49m\u001B[43m \u001B[49m\u001B[43m/\u001B[49m\u001B[43m \u001B[49m\u001B[32;43m1000\u001B[39;49m\u001B[43m)\u001B[49m\n\u001B[32m    610\u001B[39m \u001B[38;5;66;03m# called without the lock to avoid deadlock potential\u001B[39;00m\n\u001B[32m    611\u001B[39m \u001B[38;5;66;03m# if handlers need to acquire locks\u001B[39;00m\n\u001B[32m    612\u001B[39m responses.extend(\u001B[38;5;28mself\u001B[39m._fire_pending_completed_requests())\n",
      "\u001B[36mFile \u001B[39m\u001B[32m/mnt/mls/venv/lib/python3.12/site-packages/kafka/client_async.py:647\u001B[39m, in \u001B[36mKafkaClient._poll\u001B[39m\u001B[34m(self, timeout)\u001B[39m\n\u001B[32m    644\u001B[39m \u001B[38;5;28mself\u001B[39m._register_send_sockets()\n\u001B[32m    646\u001B[39m start_select = time.time()\n\u001B[32m--> \u001B[39m\u001B[32m647\u001B[39m ready = \u001B[38;5;28;43mself\u001B[39;49m\u001B[43m.\u001B[49m\u001B[43m_selector\u001B[49m\u001B[43m.\u001B[49m\u001B[43mselect\u001B[49m\u001B[43m(\u001B[49m\u001B[43mtimeout\u001B[49m\u001B[43m)\u001B[49m\n\u001B[32m    648\u001B[39m end_select = time.time()\n\u001B[32m    649\u001B[39m \u001B[38;5;28;01mif\u001B[39;00m \u001B[38;5;28mself\u001B[39m._sensors:\n",
      "\u001B[36mFile \u001B[39m\u001B[32m/usr/lib/python3.12/selectors.py:468\u001B[39m, in \u001B[36mEpollSelector.select\u001B[39m\u001B[34m(self, timeout)\u001B[39m\n\u001B[32m    466\u001B[39m ready = []\n\u001B[32m    467\u001B[39m \u001B[38;5;28;01mtry\u001B[39;00m:\n\u001B[32m--> \u001B[39m\u001B[32m468\u001B[39m     fd_event_list = \u001B[38;5;28;43mself\u001B[39;49m\u001B[43m.\u001B[49m\u001B[43m_selector\u001B[49m\u001B[43m.\u001B[49m\u001B[43mpoll\u001B[49m\u001B[43m(\u001B[49m\u001B[43mtimeout\u001B[49m\u001B[43m,\u001B[49m\u001B[43m \u001B[49m\u001B[43mmax_ev\u001B[49m\u001B[43m)\u001B[49m\n\u001B[32m    469\u001B[39m \u001B[38;5;28;01mexcept\u001B[39;00m \u001B[38;5;167;01mInterruptedError\u001B[39;00m:\n\u001B[32m    470\u001B[39m     \u001B[38;5;28;01mreturn\u001B[39;00m ready\n",
      "\u001B[31mKeyboardInterrupt\u001B[39m: "
     ]
    }
   ],
   "execution_count": 4
  },
  {
   "metadata": {},
   "cell_type": "code",
   "source": "",
   "id": "bb26801952f2f6a1",
   "outputs": [],
   "execution_count": null
  }
 ],
 "metadata": {
  "kernelspec": {
   "display_name": "Python 3",
   "language": "python",
   "name": "python3"
  },
  "language_info": {
   "codemirror_mode": {
    "name": "ipython",
    "version": 2
   },
   "file_extension": ".py",
   "mimetype": "text/x-python",
   "name": "python",
   "nbconvert_exporter": "python",
   "pygments_lexer": "ipython2",
   "version": "2.7.6"
  }
 },
 "nbformat": 4,
 "nbformat_minor": 5
}
